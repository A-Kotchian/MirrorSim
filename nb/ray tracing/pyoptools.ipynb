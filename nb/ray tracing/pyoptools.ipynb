{
 "cells": [
  {
   "cell_type": "code",
   "execution_count": 1,
   "metadata": {},
   "outputs": [
    {
     "name": "stdout",
     "output_type": "stream",
     "text": [
      "need py3js installed to be able to plot systems in Jupyter notebooks\n"
     ]
    }
   ],
   "source": [
    "%matplotlib widget\n",
    "\n",
    "import math\n",
    "from pyoptools.all import *"
   ]
  },
  {
   "cell_type": "code",
   "execution_count": 2,
   "metadata": {},
   "outputs": [],
   "source": [
    "S1=Spherical(curvature=1/100., shape=Circular(radius=20.))\n",
    "S2=Spherical(curvature=1/200., shape=Circular(radius=20.))\n",
    "\n",
    "S3=Cylinder(radius=20,length=6.997)"
   ]
  },
  {
   "cell_type": "code",
   "execution_count": 3,
   "metadata": {},
   "outputs": [],
   "source": [
    "L1=Component(surflist=[(S1, (0, 0, -5), (0, 0, 0)), (S2, (0, 0, 5), (0, math.pi, 0)), (S3,(0,0,.509),(0,0,0))], material=material.schott[\"BK7\"])"
   ]
  },
  {
   "cell_type": "code",
   "execution_count": 4,
   "metadata": {},
   "outputs": [],
   "source": [
    "ccd=CCD(size=(10,10), transparent=False)"
   ]
  },
  {
   "cell_type": "code",
   "execution_count": 5,
   "metadata": {},
   "outputs": [],
   "source": [
    "S=System(complist=[(L1, (0, 0, 20), (0, 0, 0)),(ccd, (0, 0, 150), (0, 0, 0))], n=1)"
   ]
  },
  {
   "cell_type": "code",
   "execution_count": 6,
   "metadata": {},
   "outputs": [
    {
     "name": "stderr",
     "output_type": "stream",
     "text": [
      "/home/mat/miniconda3/envs/ctrl/lib/python3.10/site-packages/IPython/core/interactiveshell.py:3577: DeprecationWarning: The 'pos' keyword argument is deprecated and will be removed in a future version. Please use 'origin' instead.\n",
      "  exec(code_obj, self.user_global_ns, self.user_ns)\n",
      "/home/mat/miniconda3/envs/ctrl/lib/python3.10/site-packages/IPython/core/interactiveshell.py:3577: DeprecationWarning: The 'dir' keyword argument is deprecated and will be removed in a future version. Please use 'direction' instead.\n",
      "  exec(code_obj, self.user_global_ns, self.user_ns)\n",
      "/home/mat/miniconda3/envs/ctrl/lib/python3.10/site-packages/IPython/core/interactiveshell.py:3577: DeprecationWarning: The 'pos' keyword argument is deprecated and will be removed in a future version. Please use 'origin' instead.\n",
      "  exec(code_obj, self.user_global_ns, self.user_ns)\n",
      "/home/mat/miniconda3/envs/ctrl/lib/python3.10/site-packages/IPython/core/interactiveshell.py:3577: DeprecationWarning: The 'dir' keyword argument is deprecated and will be removed in a future version. Please use 'direction' instead.\n",
      "  exec(code_obj, self.user_global_ns, self.user_ns)\n",
      "/home/mat/miniconda3/envs/ctrl/lib/python3.10/site-packages/IPython/core/interactiveshell.py:3577: DeprecationWarning: The 'pos' keyword argument is deprecated and will be removed in a future version. Please use 'origin' instead.\n",
      "  exec(code_obj, self.user_global_ns, self.user_ns)\n",
      "/home/mat/miniconda3/envs/ctrl/lib/python3.10/site-packages/IPython/core/interactiveshell.py:3577: DeprecationWarning: The 'dir' keyword argument is deprecated and will be removed in a future version. Please use 'direction' instead.\n",
      "  exec(code_obj, self.user_global_ns, self.user_ns)\n",
      "/home/mat/miniconda3/envs/ctrl/lib/python3.10/site-packages/IPython/core/interactiveshell.py:3577: DeprecationWarning: The 'pos' keyword argument is deprecated and will be removed in a future version. Please use 'origin' instead.\n",
      "  exec(code_obj, self.user_global_ns, self.user_ns)\n",
      "/home/mat/miniconda3/envs/ctrl/lib/python3.10/site-packages/IPython/core/interactiveshell.py:3577: DeprecationWarning: The 'dir' keyword argument is deprecated and will be removed in a future version. Please use 'direction' instead.\n",
      "  exec(code_obj, self.user_global_ns, self.user_ns)\n",
      "/home/mat/miniconda3/envs/ctrl/lib/python3.10/site-packages/IPython/core/interactiveshell.py:3577: DeprecationWarning: The 'pos' keyword argument is deprecated and will be removed in a future version. Please use 'origin' instead.\n",
      "  exec(code_obj, self.user_global_ns, self.user_ns)\n",
      "/home/mat/miniconda3/envs/ctrl/lib/python3.10/site-packages/IPython/core/interactiveshell.py:3577: DeprecationWarning: The 'dir' keyword argument is deprecated and will be removed in a future version. Please use 'direction' instead.\n",
      "  exec(code_obj, self.user_global_ns, self.user_ns)\n"
     ]
    }
   ],
   "source": [
    "R=[Ray(pos=(0, 0, 0), dir=(0, 0, 1)), Ray(pos=(10, 0, 0), dir=(0, 0, 1)), Ray(pos=(-10, 0, 0), dir=(0, 0, 1)),Ray(pos=(0, 10, 0), dir=(0, 0, 1)), Ray(pos=(0, -10, 0), dir=(0, 0, 1)),]"
   ]
  },
  {
   "cell_type": "code",
   "execution_count": 7,
   "metadata": {},
   "outputs": [],
   "source": [
    "S.ray_add(R)"
   ]
  },
  {
   "cell_type": "code",
   "execution_count": 8,
   "metadata": {},
   "outputs": [],
   "source": [
    "S.propagate()"
   ]
  },
  {
   "cell_type": "code",
   "execution_count": 12,
   "metadata": {},
   "outputs": [
    {
     "name": "stderr",
     "output_type": "stream",
     "text": [
      "/home/mat/miniconda3/envs/ctrl/lib/python3.10/site-packages/traitlets/traitlets.py:1385: DeprecationWarning: Passing unrecognized arguments to super(Toolbar).__init__().\n",
      "NavigationToolbar2WebAgg.__init__() missing 1 required positional argument: 'canvas'\n",
      "This is deprecated in traitlets 4.2.This error will be raised in a future release of traitlets.\n",
      "  warn(\n"
     ]
    },
    {
     "data": {
      "application/vnd.jupyter.widget-view+json": {
       "model_id": "48fa2af986354099a89f3f202233522f",
       "version_major": 2,
       "version_minor": 0
      },
      "image/png": "[encoded data removed]",
      "text/html": [
       "\n",
       "            <div style=\"display: inline-block;\">\n",
       "                <div class=\"jupyter-widgets widget-label\" style=\"text-align: center;\">\n",
       "                    Figure\n",
       "                </div>\n",
       "                <img src='data:image/png;base64,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' width=640.0/>\n",
       "            </div>\n",
       "        "
      ],
      "text/plain": [
       "Canvas(toolbar=Toolbar(toolitems=[('Home', 'Reset original view', 'home', 'home'), ('Back', 'Back to previous …"
      ]
     },
     "metadata": {},
     "output_type": "display_data"
    }
   ],
   "source": [
    "spot_diagram(ccd)"
   ]
  },
  {
   "cell_type": "code",
   "execution_count": 19,
   "metadata": {},
   "outputs": [
    {
     "data": {
      "text/plain": [
       "(7.910117488288418e-15, 0.0, 0.0)"
      ]
     },
     "execution_count": 19,
     "metadata": {},
     "output_type": "execute_result"
    }
   ],
   "source": [
    "# Extract hitpoint coordinates\n",
    "ccd.hit_list[0][0]"
   ]
  },
  {
   "cell_type": "code",
   "execution_count": null,
   "metadata": {},
   "outputs": [],
   "source": []
  }
 ],
 "metadata": {
  "kernelspec": {
   "display_name": "ctrl",
   "language": "python",
   "name": "python3"
  },
  "language_info": {
   "codemirror_mode": {
    "name": "ipython",
    "version": 3
   },
   "file_extension": ".py",
   "mimetype": "text/x-python",
   "name": "python",
   "nbconvert_exporter": "python",
   "pygments_lexer": "ipython3",
   "version": "3.10.14"
  }
 },
 "nbformat": 4,
 "nbformat_minor": 2
}
