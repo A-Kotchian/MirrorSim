{
 "cells": [
  {
   "cell_type": "code",
   "execution_count": 1,
   "metadata": {},
   "outputs": [],
   "source": [
    "%matplotlib widget\n",
    "\n",
    "# conda install pythreejs\n",
    "\n",
    "# Documentation: https://github.com/cihologramas/pyoptools/blob/master/Tutorial/Tutorial.ipynb\n",
    "\n",
    "import math\n",
    "from pyoptools.all import *"
   ]
  },
  {
   "cell_type": "code",
   "execution_count": 2,
   "metadata": {},
   "outputs": [],
   "source": [
    "n_glass=1.5168 # BK7 glass\n",
    "\n",
    "\n",
    "mobile_mirr = RoundMirror(radius= 25.4, thickness = 0.06, reflectivity = 0.99)\n",
    "\n",
    "BS = BeamSplittingCube(size= 25.4, reflectivity=0.5,  material=material.lzos[\"BK8\"])\n",
    "\n",
    "l_rad = 25.4\n",
    "L=IdealTLens(shape=Circular(radius=l_rad), f=100, d=3)\n",
    "#L1 = SphericalLens(radius=25.4, curvature_s1=470, curvature_s2=470, thickness=3, material=material.lzos[\"BK8\"])\n",
    "\n",
    "\n",
    "#S1=Spherical(curvature=1/100., shape=Circular(radius=20.))\n",
    "#S2=Spherical(curvature=1/200., shape=Circular(radius=20.))\n",
    "\n",
    "#S3=Cylinder(radius=20,length=6.997)"
   ]
  },
  {
   "cell_type": "code",
   "execution_count": 3,
   "metadata": {},
   "outputs": [],
   "source": [
    "#L1=Component(surflist=[(S1, (0, 0, -5), (0, 0, 0)), (S2, (0, 0, 5), (0, math.pi, 0)), (S3,(0,0,.509),(0,0,0))], material=material.schott[\"BK7\"])"
   ]
  },
  {
   "cell_type": "code",
   "execution_count": 4,
   "metadata": {},
   "outputs": [],
   "source": [
    "ccd_tran=CCD(size=(10,10), transparent=False)\n",
    "\n",
    "ccd_refl=CCD(size=(10,10), transparent=False)\n"
   ]
  },
  {
   "cell_type": "code",
   "execution_count": 5,
   "metadata": {},
   "outputs": [],
   "source": [
    "laser_mirror_d = 200\n",
    "mirror_bs_d = 60\n",
    "bs_trans_ccd_d = 100\n",
    "bs_lens_d = 40\n",
    "lens_refl_ccd_d = 100\n",
    "\n",
    "S=System(complist=[(mobile_mirr, (0, 0, laser_mirror_d), (0, math.radians(45), 0)),\n",
    "                   (BS, (-mirror_bs_d, 0, laser_mirror_d), (0, 0, 0)),\n",
    "                   (ccd_tran, (-mirror_bs_d-bs_trans_ccd_d, 0, laser_mirror_d), (0, math.radians(90), 0)),\n",
    "                   (L, (-mirror_bs_d, 0, laser_mirror_d+bs_lens_d), (0, 0, 0)),\n",
    "                   (ccd_refl, (-mirror_bs_d, 0, laser_mirror_d+bs_lens_d+lens_refl_ccd_d), (0, 0, 0))], n=1)"
   ]
  },
  {
   "cell_type": "code",
   "execution_count": 6,
   "metadata": {},
   "outputs": [],
   "source": [
    "r_color = 'violet'\n",
    "R=[Ray((0, 0, 0), (0, 0, 1), draw_color=r_color), Ray((10, 0, 0), (0, 0, 1), draw_color=r_color), Ray((-10, 0, 0), (0, 0, 1), draw_color=r_color),Ray((0, 10, 0), (0, 0, 1), draw_color=r_color), Ray((0, -10, 0), (0, 0, 1), draw_color=r_color),]\n",
    "#R=[Ray((0, 0, 0), (0, 0, 1), draw_color=r_color)]"
   ]
  },
  {
   "cell_type": "code",
   "execution_count": 7,
   "metadata": {},
   "outputs": [],
   "source": [
    "S.ray_add(R)"
   ]
  },
  {
   "cell_type": "code",
   "execution_count": 8,
   "metadata": {},
   "outputs": [],
   "source": [
    "S.propagate()"
   ]
  },
  {
   "cell_type": "code",
   "execution_count": 9,
   "metadata": {},
   "outputs": [],
   "source": [
    "#spot_diagram(ccd_straight)"
   ]
  },
  {
   "cell_type": "code",
   "execution_count": 10,
   "metadata": {},
   "outputs": [
    {
     "name": "stdout",
     "output_type": "stream",
     "text": [
      "(5.890298379379295e-14, 0.0, 0.0)\n"
     ]
    }
   ],
   "source": [
    "# Extract hitpoint coordinates\n",
    "for ray in ccd_tran.hit_list:\n",
    "    print(ray[0])"
   ]
  },
  {
   "cell_type": "code",
   "execution_count": 12,
   "metadata": {},
   "outputs": [
    {
     "data": {
      "application/vnd.jupyter.widget-view+json": {
       "model_id": "3e91cc081495472690ca1d9aa0f8602c",
       "version_major": 2,
       "version_minor": 0
      },
      "text/plain": [
       "Renderer(camera=OrthographicCamera(bottom=-100.0, children=(DirectionalLight(intensity=0.7, position=(0.0, 100…"
      ]
     },
     "execution_count": 12,
     "metadata": {},
     "output_type": "execute_result"
    }
   ],
   "source": [
    "Plot3D(S, center=(mirror_bs_d, 0, laser_mirror_d))"
   ]
  },
  {
   "cell_type": "code",
   "execution_count": 13,
   "metadata": {},
   "outputs": [
    {
     "data": {
      "text/plain": [
       "([5.890298379379295e-14], [0.0], [373.88618])"
      ]
     },
     "execution_count": 13,
     "metadata": {},
     "output_type": "execute_result"
    }
   ],
   "source": [
    "ccd_tran.get_optical_path_data()"
   ]
  },
  {
   "cell_type": "code",
   "execution_count": 14,
   "metadata": {},
   "outputs": [
    {
     "name": "stdout",
     "output_type": "stream",
     "text": [
      "([5.890298379379295e-14, 6.637536376482313e-14], [0.0, 0.0], [373.88618, 453.88618]) ([5.2721864867535045e-14, 0.1500000000000501, -0.14999999999994884, 5.2721864867535045e-14, 5.2721864867535045e-14, 3.915049861451714e-14], [0.0, 0.0, 0.0, 0.15000000000000036, -0.15000000000000036, 0.0], [413.88617999999997, 414.37745486804073, 414.37745486804073, 414.37745486804073, 414.37745486804073, 553.88618])\n"
     ]
    }
   ],
   "source": [
    "import numpy as np\n",
    "import matplotlib.pyplot as plt\n",
    "\n",
    "laser_mirror_d = 200\n",
    "mirror_bs_d = 200\n",
    "\n",
    "R=[Ray((0, 0, 0), (0, 0, 1))]\n",
    "\n",
    "def plot_optical_path(m_tx, m_ty, m_dx, m_dy):\n",
    "    S=System(complist=[(mobile_mirr, (0+m_dx, 0+m_dy, laser_mirror_d), (0+m_tx, math.radians(45)+m_ty, 0)),\n",
    "                   (BS, (-mirror_bs_d, 0, laser_mirror_d), (0, 0, 0)),\n",
    "                   (ccd_tran, (-laser_mirror_d-40, 0, laser_mirror_d), (0, math.radians(90), 0)),\n",
    "                   (L, (-mirror_bs_d, 0, laser_mirror_d+40), (0, 0, 0)),\n",
    "                   (ccd_refl, (-mirror_bs_d, 0, laser_mirror_d+140), (0, 0, 0))], n=1)\n",
    "\n",
    "    #S.clear_ray_list()\n",
    "    S.ray_add(R)\n",
    "\n",
    "    #S.update_ids()\n",
    "    #\n",
    "    \n",
    "    S.propagate()\n",
    "\n",
    "    a,b = ccd_tran.get_optical_path_data(), ccd_refl.get_optical_path_data()\n",
    "    S.reset()\n",
    "    return a, b\n",
    "    #return ccd_straight.hit_list[0], ccd_refl.hit_list[0]\n",
    "\n",
    "\n",
    "# Test\n",
    "m = 0.00\n",
    "tran_path, refl_path = plot_optical_path(m, m, m, m)\n",
    "S.reset()\n",
    "print(tran_path, refl_path)\n",
    "\n",
    "# ([6.637536376482313e-14], [0.0], [453.88618]) ([3.915049861451714e-14], [0.0], [553.88618])"
   ]
  },
  {
   "cell_type": "markdown",
   "metadata": {},
   "source": [
    "## Obtain tilt and displacement from the measurement\n",
    "\n",
    "![Optical Lever B Matrix](opt_lev_B_matrix.png)"
   ]
  },
  {
   "cell_type": "code",
   "execution_count": null,
   "metadata": {},
   "outputs": [],
   "source": [
    "f11 = np.cos()"
   ]
  },
  {
   "cell_type": "code",
   "execution_count": null,
   "metadata": {},
   "outputs": [],
   "source": []
  }
 ],
 "metadata": {
  "kernelspec": {
   "display_name": "ctrl",
   "language": "python",
   "name": "python3"
  },
  "language_info": {
   "codemirror_mode": {
    "name": "ipython",
    "version": 3
   },
   "file_extension": ".py",
   "mimetype": "text/x-python",
   "name": "python",
   "nbconvert_exporter": "python",
   "pygments_lexer": "ipython3",
   "version": "3.10.14"
  }
 },
 "nbformat": 4,
 "nbformat_minor": 2
}
