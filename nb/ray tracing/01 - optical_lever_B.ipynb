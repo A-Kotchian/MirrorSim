{
 "cells": [
  {
   "cell_type": "code",
   "execution_count": null,
   "metadata": {},
   "outputs": [],
   "source": [
    "%matplotlib widget\n",
    "\n",
    "# conda install pythreejs\n",
    "\n",
    "# Documentation: https://github.com/cihologramas/pyoptools/blob/master/Tutorial/Tutorial.ipynb\n",
    "\n",
    "import math\n",
    "from pyoptools.all import *"
   ]
  },
  {
   "cell_type": "code",
   "execution_count": 26,
   "metadata": {},
   "outputs": [],
   "source": [
    "n_glass=1.5168 # BK7 glass\n",
    "\n",
    "\n",
    "mobile_mirr = RoundMirror(radius= 25.4, thickness = 0.06, reflectivity = 0.99)\n",
    "\n",
    "BS = BeamSplittingCube(size= 25.4, reflectivity=0.5,  material=material.lzos[\"BK8\"])\n",
    "\n",
    "L=IdealTLens(shape=Circular(radius=25.4), f=100, d=3)\n",
    "#L1 = SphericalLens(radius=25.4, curvature_s1=470, curvature_s2=470, thickness=3, material=material.lzos[\"BK8\"])\n",
    "\n",
    "\n",
    "#S1=Spherical(curvature=1/100., shape=Circular(radius=20.))\n",
    "#S2=Spherical(curvature=1/200., shape=Circular(radius=20.))\n",
    "\n",
    "#S3=Cylinder(radius=20,length=6.997)"
   ]
  },
  {
   "cell_type": "code",
   "execution_count": 14,
   "metadata": {},
   "outputs": [],
   "source": [
    "#L1=Component(surflist=[(S1, (0, 0, -5), (0, 0, 0)), (S2, (0, 0, 5), (0, math.pi, 0)), (S3,(0,0,.509),(0,0,0))], material=material.schott[\"BK7\"])"
   ]
  },
  {
   "cell_type": "code",
   "execution_count": 15,
   "metadata": {},
   "outputs": [],
   "source": [
    "ccd_straight=CCD(size=(10,10), transparent=False)\n",
    "\n",
    "ccd_refl=CCD(size=(10,10), transparent=False)\n"
   ]
  },
  {
   "cell_type": "code",
   "execution_count": 34,
   "metadata": {},
   "outputs": [],
   "source": [
    "laser_mirror_d = 200\n",
    "mirror_bs_d = 200\n",
    "\n",
    "S=System(complist=[(mobile_mirr, (0, 0, laser_mirror_d), (0, math.radians(45), 0)),\n",
    "                   (BS, (-mirror_bs_d, 0, laser_mirror_d), (0, 0, 0)),\n",
    "                   (ccd_straight, (-laser_mirror_d-40, 0, laser_mirror_d), (0, math.radians(90), 0)),\n",
    "                   (L, (-mirror_bs_d, 0, laser_mirror_d+40), (0, 0, 0)),\n",
    "                   (ccd_refl, (-mirror_bs_d, 0, laser_mirror_d+140), (0, 0, 0))], n=1)"
   ]
  },
  {
   "cell_type": "code",
   "execution_count": 35,
   "metadata": {},
   "outputs": [],
   "source": [
    "#R=[Ray((0, 0, 0), (0, 0, 1)), Ray((10, 0, 0), (0, 0, 1)), Ray((-10, 0, 0), (0, 0, 1)),Ray((0, 10, 0), (0, 0, 1)), Ray((0, -10, 0), (0, 0, 1)),]\n",
    "R=[Ray((0, 0, 0), (0, 0, 1))]"
   ]
  },
  {
   "cell_type": "code",
   "execution_count": 36,
   "metadata": {},
   "outputs": [],
   "source": [
    "S.ray_add(R)"
   ]
  },
  {
   "cell_type": "code",
   "execution_count": 37,
   "metadata": {},
   "outputs": [],
   "source": [
    "S.propagate()"
   ]
  },
  {
   "cell_type": "code",
   "execution_count": 38,
   "metadata": {},
   "outputs": [],
   "source": [
    "spot_diagram(ccd_straight)"
   ]
  },
  {
   "cell_type": "code",
   "execution_count": 39,
   "metadata": {},
   "outputs": [
    {
     "name": "stdout",
     "output_type": "stream",
     "text": [
      "(6.637536376482313e-14, 0.0, 0.0)\n",
      "(6.637536376482313e-14, 0.0, 0.0)\n"
     ]
    }
   ],
   "source": [
    "# Extract hitpoint coordinates\n",
    "for ray in ccd_straight.hit_list:\n",
    "    print(ray[0])"
   ]
  },
  {
   "cell_type": "code",
   "execution_count": 40,
   "metadata": {},
   "outputs": [
    {
     "data": {
      "application/vnd.jupyter.widget-view+json": {
       "model_id": "18e0aacef23b408ebfb59a3c5a3d4ac9",
       "version_major": 2,
       "version_minor": 0
      },
      "text/plain": [
       "Renderer(camera=OrthographicCamera(bottom=-100.0, children=(DirectionalLight(intensity=0.7, position=(0.0, 100…"
      ]
     },
     "execution_count": 40,
     "metadata": {},
     "output_type": "execute_result"
    }
   ],
   "source": [
    "Plot3D(S)"
   ]
  },
  {
   "cell_type": "code",
   "execution_count": null,
   "metadata": {},
   "outputs": [],
   "source": []
  }
 ],
 "metadata": {
  "kernelspec": {
   "display_name": "ctrl",
   "language": "python",
   "name": "python3"
  },
  "language_info": {
   "codemirror_mode": {
    "name": "ipython",
    "version": 3
   },
   "file_extension": ".py",
   "mimetype": "text/x-python",
   "name": "python",
   "nbconvert_exporter": "python",
   "pygments_lexer": "ipython3",
   "version": "3.10.14"
  }
 },
 "nbformat": 4,
 "nbformat_minor": 2
}
