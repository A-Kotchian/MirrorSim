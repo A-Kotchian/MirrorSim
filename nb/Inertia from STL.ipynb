{
 "cells": [
  {
   "cell_type": "code",
   "execution_count": null,
   "metadata": {},
   "outputs": [
    {
     "name": "stdout",
     "output_type": "stream",
     "text": [
      "Volume                                  = 887488.402932648 mm^3\n",
      "Mass = 2396.2186879181495 g\n",
      "Position of the center of gravity (COG) = [ 23.21919718 -69.15008118 210.97977414]\n",
      "Inertia matrix at expressed at the COG  = [ 2.38990818e+09  9.79821205e+00 -2.08061384e+02]\n",
      "                                          [9.79821205e+00 1.97079130e+09 4.71767071e+02]\n",
      "                                          [-2.08061384e+02  4.71767071e+02  4.22754881e+09]\n"
     ]
    }
   ],
   "source": [
    "import numpy as np\n",
    "from stl import mesh\n",
    "\n",
    "# Using an existing closed stl file:\n",
    "your_mesh = mesh.Mesh.from_file('../JAP/JAP x Mateusz/Unnamed-assieme_dondola2-Dummy Mirror in alluminio_1.stl')\n",
    "\n",
    "density_Al = 0.0027  # g/mm^3\n",
    "\n",
    "volume, cog, inertia = your_mesh.get_mass_properties()\n",
    "print(\"Volume                                  = {0} mm^3\".format(volume))\n",
    "print(\"Mass                                    = {0} g\".format(volume*density_Al))\n",
    "print(\"Position of the center of gravity (COG) = {0}\".format(cog))\n",
    "print(\"Inertia matrix at expressed at the COG  = {0}\".format(inertia[0,:]))\n",
    "print(\"                                          {0}\".format(inertia[1,:]))\n",
    "print(\"                                          {0}\".format(inertia[2,:]))"
   ]
  },
  {
   "cell_type": "code",
   "execution_count": null,
   "metadata": {},
   "outputs": [],
   "source": []
  }
 ],
 "metadata": {
  "kernelspec": {
   "display_name": "ctrl",
   "language": "python",
   "name": "python3"
  },
  "language_info": {
   "codemirror_mode": {
    "name": "ipython",
    "version": 3
   },
   "file_extension": ".py",
   "mimetype": "text/x-python",
   "name": "python",
   "nbconvert_exporter": "python",
   "pygments_lexer": "ipython3",
   "version": "3.10.14"
  }
 },
 "nbformat": 4,
 "nbformat_minor": 2
}
